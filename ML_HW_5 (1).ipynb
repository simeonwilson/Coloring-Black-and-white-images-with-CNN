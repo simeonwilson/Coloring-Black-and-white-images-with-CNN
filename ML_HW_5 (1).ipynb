{
 "cells": [
  {
   "cell_type": "markdown",
   "metadata": {},
   "source": [
    "# HW 5 Convolutional neural networks for image coloring"
   ]
  },
  {
   "cell_type": "markdown",
   "metadata": {},
   "source": [
    "## A."
   ]
  },
  {
   "cell_type": "code",
   "execution_count": 2,
   "metadata": {},
   "outputs": [],
   "source": [
    "\n",
    "import pickle\n",
    "import numpy as np\n",
    "import matplotlib.pyplot as plt\n",
    "import pandas as pd\n",
    "def unpickle(file):\n",
    "    import pickle\n",
    "    with open(file, 'rb') as fo:\n",
    "        dict = pickle.load(fo, encoding='bytes')\n",
    "    return dict\n",
    "\n",
    "\n",
    "\n",
    "\n",
    "def load_label_names():\n",
    "    return ['airplane', 'automobile', 'bird', 'cat', 'deer', 'dog', 'frog', 'horse', 'ship', 'truck']\n",
    "#(a.)\n",
    "batch1 = unpickle(\"C:/Users/simeon/Desktop/cifar-10-batches-py/data_batch_1\")\n",
    "\n",
    "batch2 = unpickle(\"C:/Users/simeon/Desktop/cifar-10-batches-py/data_batch_2\")\n",
    "\n",
    "batch3 = unpickle(\"C:/Users/simeon/Desktop/cifar-10-batches-py/data_batch_3\")\n",
    "\n",
    "batch4 = unpickle(\"C:/Users/simeon/Desktop/cifar-10-batches-py/data_batch_4\")\n",
    "\n",
    "batch5 = unpickle(\"C:/Users/simeon/Desktop/cifar-10-batches-py/data_batch_5\")\n",
    "test_batch = unpickle(\"C:/Users/simeon/Desktop/cifar-10-batches-py/test_batch\")\n",
    "\n",
    "batch_meta = unpickle(\"C:/Users/simeon/Desktop/cifar-10-batches-py/batches.meta\")\n",
    "\n"
   ]
  },
  {
   "cell_type": "markdown",
   "metadata": {},
   "source": [
    "## B. "
   ]
  },
  {
   "cell_type": "markdown",
   "metadata": {},
   "source": [
    "in this section, I reshape and transform the data from its original state to create vectors that are acutal images. to make sure that the data is in the right format, i plot one of the images"
   ]
  },
  {
   "cell_type": "code",
   "execution_count": 3,
   "metadata": {},
   "outputs": [
    {
     "data": {
      "text/plain": [
       "<matplotlib.image.AxesImage at 0x2a693f9d358>"
      ]
     },
     "execution_count": 3,
     "metadata": {},
     "output_type": "execute_result"
    },
    {
     "data": {
      "image/png": "[encoded data removed]",
      "text/plain": [
       "<Figure size 432x288 with 1 Axes>"
      ]
     },
     "metadata": {
      "needs_background": "light"
     },
     "output_type": "display_data"
    }
   ],
   "source": [
    "# according to the dictionary, label 3 is the birds \n",
    "\n",
    "#figuring out how to use dictionaries and subset data\n",
    "len(batch1)\n",
    "\n",
    "b'batch_label'in batch1\n",
    "batch1[b'batch_label']\n",
    "batch1[b'labels']\n",
    "batch1[b'data']\n",
    "batch1[b'filenames']\n",
    "\n",
    "len(batch1[b'labels'])\n",
    "len(batch1[b'data'])\n",
    "len(batch1[b'filenames'])\n",
    "\n",
    "\n",
    "list(batch1)\n",
    "batch1.keys()\n",
    "\n",
    "\n",
    "\n",
    "\n",
    "features1 = batch1[b'data'].reshape((len(batch1[b'data']), 3, 32, 32)).transpose(0, 2, 3, 1)\n",
    "labels1 = batch1[b'labels']\n",
    "features2 = batch2[b'data'].reshape((len(batch1[b'data']), 3, 32, 32)).transpose(0, 2, 3, 1)\n",
    "labels2 = batch2[b'labels']\n",
    "features3 = batch3[b'data'].reshape((len(batch1[b'data']), 3, 32, 32)).transpose(0, 2, 3, 1)\n",
    "labels3 = batch3[b'labels']\n",
    "features4 = batch4[b'data'].reshape((len(batch1[b'data']), 3, 32, 32)).transpose(0, 2, 3, 1)\n",
    "labels4 = batch4[b'labels']\n",
    "features5 = batch5[b'data'].reshape((len(batch1[b'data']), 3, 32, 32)).transpose(0, 2, 3, 1)\n",
    "labels5= batch5[b'labels']\n",
    "features6 = test_batch[b'data'].reshape((len(batch1[b'data']), 3, 32, 32)).transpose(0, 2, 3, 1)\n",
    "labels6 = test_batch[b'labels']\n",
    "\n",
    "\n",
    "\n",
    "\n",
    "\n",
    "#labels1.index(10)\n",
    "\n",
    "#labels1[6]\n",
    "#len(features1[0][0][0])\n",
    "\n",
    "\n",
    "indices = [i for i, x in enumerate(labels1) if x == 2]\n",
    "features1 = features1[indices]\n",
    "\n",
    "indices = [i for i, x in enumerate(labels2) if x == 2]\n",
    "features2 = features2[indices]\n",
    "indices = [i for i, x in enumerate(labels3) if x == 2]\n",
    "features3 = features3[indices]\n",
    "indices = [i for i, x in enumerate(labels4) if x == 2]\n",
    "features4 = features4[indices]\n",
    "indices = [i for i, x in enumerate(labels5) if x == 2]\n",
    "features5 = features5[indices]\n",
    "indices = [i for i, x in enumerate(labels6) if x == 2]\n",
    "features6 = features6[indices]\n",
    "\n",
    "birds = np.vstack((features1,features2, features3, features4, features5, features6))\n",
    "\n",
    "\n",
    "sample_image = features1[6]\n",
    "\n",
    "\n",
    "plt.imshow(sample_image)\n"
   ]
  },
  {
   "cell_type": "markdown",
   "metadata": {},
   "source": [
    "## C. "
   ]
  },
  {
   "cell_type": "markdown",
   "metadata": {},
   "source": [
    "I chose to use all of the pixels to find the most common colors"
   ]
  },
  {
   "cell_type": "code",
   "execution_count": 4,
   "metadata": {},
   "outputs": [],
   "source": [
    "\n",
    "birds_pixels = np.reshape(birds,(6144000,3) )\n"
   ]
  },
  {
   "cell_type": "markdown",
   "metadata": {},
   "source": [
    "## D. "
   ]
  },
  {
   "cell_type": "code",
   "execution_count": 5,
   "metadata": {},
   "outputs": [
    {
     "name": "stdout",
     "output_type": "stream",
     "text": [
      "[[109 109  83]\n",
      " [207 212 212]\n",
      " [156 156 136]\n",
      " [ 49  50  38]]\n"
     ]
    },
    {
     "data": {
      "text/plain": [
       "<matplotlib.image.AxesImage at 0x2a69402ac88>"
      ]
     },
     "execution_count": 5,
     "metadata": {},
     "output_type": "execute_result"
    },
    {
     "data": {
      "image/png": "[encoded data removed]",
      "text/plain": [
       "<Figure size 432x288 with 1 Axes>"
      ]
     },
     "metadata": {
      "needs_background": "light"
     },
     "output_type": "display_data"
    }
   ],
   "source": [
    "\n",
    "from sklearn.cluster import KMeans\n",
    "\n",
    "\n",
    "kmeans = KMeans(n_clusters = 4)\n",
    "kmeans.fit(birds_pixels)\n",
    "\n",
    "\n",
    "COLORS = kmeans.cluster_centers_\n",
    "COLORS = COLORS.astype(int)\n",
    "\n",
    "print(COLORS)\n",
    "labels = kmeans.predict(birds_pixels)\n",
    "\n",
    "bs = COLORS[labels]\n",
    "\n",
    "birds_4_colors = np.reshape(\n",
    "        COLORS[labels], (6000,32, 32, COLORS.shape[1]))\n",
    "\n",
    "\n",
    "sample_image = birds_4_colors[6]\n",
    "sample_image2 = birds[6]\n",
    "\n",
    "plt.imshow(sample_image)\n",
    "\n"
   ]
  },
  {
   "cell_type": "code",
   "execution_count": 6,
   "metadata": {},
   "outputs": [
    {
     "data": {
      "text/plain": [
       "<matplotlib.image.AxesImage at 0x2a6944b2828>"
      ]
     },
     "execution_count": 6,
     "metadata": {},
     "output_type": "execute_result"
    },
    {
     "data": {
      "image/png": "[encoded data removed]",
      "text/plain": [
       "<Figure size 432x288 with 1 Axes>"
      ]
     },
     "metadata": {
      "needs_background": "light"
     },
     "output_type": "display_data"
    }
   ],
   "source": [
    "\n",
    "plt.imshow(sample_image2)\n"
   ]
  },
  {
   "cell_type": "markdown",
   "metadata": {},
   "source": [
    "As we can see, the clustering was successful and we now have the image with only 4 colors, the only issue is that these colors are ugly. "
   ]
  },
  {
   "cell_type": "markdown",
   "metadata": {},
   "source": [
    "## E."
   ]
  },
  {
   "cell_type": "code",
   "execution_count": 7,
   "metadata": {},
   "outputs": [
    {
     "data": {
      "text/plain": [
       "<matplotlib.image.AxesImage at 0x2a697ee5c88>"
      ]
     },
     "execution_count": 7,
     "metadata": {},
     "output_type": "execute_result"
    },
    {
     "data": {
      "image/png": "[encoded data removed]",
      "text/plain": [
       "<Figure size 432x288 with 1 Axes>"
      ]
     },
     "metadata": {
      "needs_background": "light"
     },
     "output_type": "display_data"
    }
   ],
   "source": [
    "from skimage.color import rgb2gray\n",
    "\n",
    "gray_birds = rgb2gray(birds)\n",
    "\n",
    "\n",
    "sample_image = gray_birds[0]\n",
    "sample_image2 = birds[0]\n",
    "\n",
    "plt.imshow(sample_image,cmap=\"gray\")\n",
    "\n",
    "\n"
   ]
  },
  {
   "cell_type": "code",
   "execution_count": 8,
   "metadata": {},
   "outputs": [
    {
     "data": {
      "text/plain": [
       "<matplotlib.image.AxesImage at 0x2a697f48748>"
      ]
     },
     "execution_count": 8,
     "metadata": {},
     "output_type": "execute_result"
    },
    {
     "data": {
      "image/png": "[encoded data removed]",
      "text/plain": [
       "<Figure size 432x288 with 1 Axes>"
      ]
     },
     "metadata": {
      "needs_background": "light"
     },
     "output_type": "display_data"
    }
   ],
   "source": [
    "plt.imshow(sample_image2)"
   ]
  },
  {
   "cell_type": "markdown",
   "metadata": {},
   "source": [
    "we now have successfully converted the images to grayscale"
   ]
  },
  {
   "cell_type": "markdown",
   "metadata": {},
   "source": [
    "## F."
   ]
  },
  {
   "cell_type": "markdown",
   "metadata": {},
   "source": [
    " basically we are trying to classify each pixel as 1 of 4 colors.\n",
    "sorry to dissapoint but i am using keras because i dont plan on doing this for my future job or doing research in this area,\n",
    "\n",
    "to increase the computing time i installed tenserflow-gpu, because my laptop has a nvidia gpu, this increase the computing speed greatly, and allowed me to train many more epochs "
   ]
  },
  {
   "cell_type": "code",
   "execution_count": 39,
   "metadata": {},
   "outputs": [
    {
     "name": "stdout",
     "output_type": "stream",
     "text": [
      "_________________________________________________________________\n",
      "Layer (type)                 Output Shape              Param #   \n",
      "=================================================================\n",
      "conv2d_55 (Conv2D)           (None, 28, 28, 32)        832       \n",
      "_________________________________________________________________\n",
      "conv2d_56 (Conv2D)           (None, 24, 24, 32)        25632     \n",
      "_________________________________________________________________\n",
      "max_pooling2d_7 (MaxPooling2 (None, 12, 12, 32)        0         \n",
      "_________________________________________________________________\n",
      "conv2d_57 (Conv2D)           (None, 8, 8, 64)          51264     \n",
      "_________________________________________________________________\n",
      "max_pooling2d_8 (MaxPooling2 (None, 4, 4, 64)          0         \n",
      "_________________________________________________________________\n",
      "flatten_5 (Flatten)          (None, 1024)              0         \n",
      "_________________________________________________________________\n",
      "dense_7 (Dense)              (None, 4500)              4612500   \n",
      "_________________________________________________________________\n",
      "dense_8 (Dense)              (None, 4096)              18436096  \n",
      "_________________________________________________________________\n",
      "reshape_5 (Reshape)          (None, 32, 32, 4)         0         \n",
      "_________________________________________________________________\n",
      "activation_4 (Activation)    (None, 32, 32, 4)         0         \n",
      "=================================================================\n",
      "Total params: 23,126,324\n",
      "Trainable params: 23,126,324\n",
      "Non-trainable params: 0\n",
      "_________________________________________________________________\n",
      "Train on 4800 samples, validate on 1200 samples\n",
      "Epoch 1/10\n",
      "4800/4800 [==============================] - 8s 2ms/step - loss: 0.1808 - val_loss: 0.1720\n",
      "Epoch 2/10\n",
      "4800/4800 [==============================] - 6s 1ms/step - loss: 0.1645 - val_loss: 0.1578\n",
      "Epoch 3/10\n",
      "4800/4800 [==============================] - 6s 1ms/step - loss: 0.1539 - val_loss: 0.1458\n",
      "Epoch 4/10\n",
      "4800/4800 [==============================] - 6s 1ms/step - loss: 0.1466 - val_loss: 0.1493\n",
      "Epoch 5/10\n",
      "4800/4800 [==============================] - 6s 1ms/step - loss: 0.1402 - val_loss: 0.1346\n",
      "Epoch 6/10\n",
      "4800/4800 [==============================] - 6s 1ms/step - loss: 0.1343 - val_loss: 0.1340\n",
      "Epoch 7/10\n",
      "4800/4800 [==============================] - 6s 1ms/step - loss: 0.1296 - val_loss: 0.1439\n",
      "Epoch 8/10\n",
      "4800/4800 [==============================] - 6s 1ms/step - loss: 0.1250 - val_loss: 0.1402\n",
      "Epoch 9/10\n",
      "4800/4800 [==============================] - 6s 1ms/step - loss: 0.1195 - val_loss: 0.1259\n",
      "Epoch 10/10\n",
      "4800/4800 [==============================] - 6s 1ms/step - loss: 0.1146 - val_loss: 0.1520\n"
     ]
    }
   ],
   "source": [
    "from keras.models import Sequential\n",
    "from keras.layers import Dense, Dropout, Activation, Flatten, InputLayer, Reshape\n",
    "from keras.layers import Conv2D, MaxPooling2D, Conv1D , UpSampling2D\n",
    "import keras \n",
    "\n",
    "\n",
    "model = Sequential()\n",
    "model.add(Conv2D(32, (5, 5), padding = 'valid',activation='relu', input_shape=(32, 32, 1)))\n",
    "model.add(Conv2D(32, (5, 5), activation='relu'))\n",
    "model.add(MaxPooling2D((2, 2)))\n",
    "model.add(Conv2D(64, (5, 5), activation='relu'))\n",
    "model.add(MaxPooling2D((2, 2)))\n",
    "\n",
    "model.add(Flatten())\n",
    "model.add(Dense(4500, activation='relu'))\n",
    "model.add(Dense(4096, activation='relu'))\n",
    "model.add(Reshape((32,32,4)))\n",
    "model.add(Activation('softmax'))\n",
    "model.compile(optimizer='rmsprop',loss='mse')\n",
    "model.summary()\n",
    "\n",
    "\n",
    "history = model.fit(x, y, validation_split=0.2, epochs=10, batch_size=32)\n"
   ]
  },
  {
   "cell_type": "code",
   "execution_count": null,
   "metadata": {},
   "outputs": [],
   "source": []
  },
  {
   "cell_type": "code",
   "execution_count": 70,
   "metadata": {},
   "outputs": [
    {
     "name": "stdout",
     "output_type": "stream",
     "text": [
      "Train on 4800 samples, validate on 1200 samples\n",
      "Epoch 1/100\n",
      "4800/4800 [==============================] - 3s 546us/step - loss: 0.1819 - val_loss: 0.1658\n",
      "Epoch 2/100\n",
      "4800/4800 [==============================] - 2s 364us/step - loss: 0.1446 - val_loss: 0.1315\n",
      "Epoch 3/100\n",
      "4800/4800 [==============================] - 2s 367us/step - loss: 0.1315 - val_loss: 0.1200\n",
      "Epoch 4/100\n",
      "4800/4800 [==============================] - 2s 358us/step - loss: 0.1244 - val_loss: 0.1183\n",
      "Epoch 5/100\n",
      "4800/4800 [==============================] - 2s 355us/step - loss: 0.1189 - val_loss: 0.1148\n",
      "Epoch 6/100\n",
      "4800/4800 [==============================] - 2s 366us/step - loss: 0.1150 - val_loss: 0.1103\n",
      "Epoch 7/100\n",
      "4800/4800 [==============================] - 2s 361us/step - loss: 0.1115 - val_loss: 0.1091\n",
      "Epoch 8/100\n",
      "4800/4800 [==============================] - 2s 362us/step - loss: 0.1088 - val_loss: 0.1318\n",
      "Epoch 9/100\n",
      "4800/4800 [==============================] - 2s 363us/step - loss: 0.1069 - val_loss: 0.1193\n",
      "Epoch 10/100\n",
      "4800/4800 [==============================] - 2s 362us/step - loss: 0.1053 - val_loss: 0.1058\n",
      "Epoch 11/100\n",
      "4800/4800 [==============================] - 2s 362us/step - loss: 0.1042 - val_loss: 0.1065\n",
      "Epoch 12/100\n",
      "4800/4800 [==============================] - 2s 367us/step - loss: 0.1018 - val_loss: 0.0957\n",
      "Epoch 13/100\n",
      "4800/4800 [==============================] - 2s 357us/step - loss: 0.1010 - val_loss: 0.0991\n",
      "Epoch 14/100\n",
      "4800/4800 [==============================] - 2s 358us/step - loss: 0.0995 - val_loss: 0.0962\n",
      "Epoch 15/100\n",
      "4800/4800 [==============================] - 2s 359us/step - loss: 0.0984 - val_loss: 0.0990\n",
      "Epoch 16/100\n",
      "4800/4800 [==============================] - 2s 364us/step - loss: 0.0976 - val_loss: 0.1174\n",
      "Epoch 17/100\n",
      "4800/4800 [==============================] - 2s 360us/step - loss: 0.0966 - val_loss: 0.0948\n",
      "Epoch 18/100\n",
      "4800/4800 [==============================] - 2s 360us/step - loss: 0.0963 - val_loss: 0.0969\n",
      "Epoch 19/100\n",
      "4800/4800 [==============================] - 2s 358us/step - loss: 0.0953 - val_loss: 0.0957\n",
      "Epoch 20/100\n",
      "4800/4800 [==============================] - 2s 356us/step - loss: 0.0942 - val_loss: 0.0937\n",
      "Epoch 21/100\n",
      "4800/4800 [==============================] - 2s 370us/step - loss: 0.0937 - val_loss: 0.0994\n",
      "Epoch 22/100\n",
      "4800/4800 [==============================] - 2s 356us/step - loss: 0.0929 - val_loss: 0.0917\n",
      "Epoch 23/100\n",
      "4800/4800 [==============================] - 2s 355us/step - loss: 0.0926 - val_loss: 0.0946\n",
      "Epoch 24/100\n",
      "4800/4800 [==============================] - 2s 359us/step - loss: 0.0913 - val_loss: 0.0928\n",
      "Epoch 25/100\n",
      "4800/4800 [==============================] - 2s 358us/step - loss: 0.0906 - val_loss: 0.0918\n",
      "Epoch 26/100\n",
      "4800/4800 [==============================] - 2s 354us/step - loss: 0.0900 - val_loss: 0.0990\n",
      "Epoch 27/100\n",
      "4800/4800 [==============================] - 2s 355us/step - loss: 0.0899 - val_loss: 0.0983\n",
      "Epoch 28/100\n",
      "4800/4800 [==============================] - 2s 356us/step - loss: 0.0892 - val_loss: 0.0965\n",
      "Epoch 29/100\n",
      "4800/4800 [==============================] - 2s 357us/step - loss: 0.0891 - val_loss: 0.0926\n",
      "Epoch 30/100\n",
      "4800/4800 [==============================] - 2s 370us/step - loss: 0.0880 - val_loss: 0.0943\n",
      "Epoch 31/100\n",
      "4800/4800 [==============================] - 2s 365us/step - loss: 0.0875 - val_loss: 0.0924\n",
      "Epoch 32/100\n",
      "4800/4800 [==============================] - 2s 360us/step - loss: 0.0871 - val_loss: 0.1014\n",
      "Epoch 33/100\n",
      "4800/4800 [==============================] - 2s 361us/step - loss: 0.0863 - val_loss: 0.0928\n",
      "Epoch 34/100\n",
      "4800/4800 [==============================] - 2s 358us/step - loss: 0.0860 - val_loss: 0.0945\n",
      "Epoch 35/100\n",
      "4800/4800 [==============================] - 2s 355us/step - loss: 0.0857 - val_loss: 0.0979\n",
      "Epoch 36/100\n",
      "4800/4800 [==============================] - 2s 358us/step - loss: 0.0850 - val_loss: 0.0976\n",
      "Epoch 37/100\n",
      "4800/4800 [==============================] - 2s 360us/step - loss: 0.0847 - val_loss: 0.0985\n",
      "Epoch 38/100\n",
      "4800/4800 [==============================] - 2s 357us/step - loss: 0.0845 - val_loss: 0.0957\n",
      "Epoch 39/100\n",
      "4800/4800 [==============================] - 2s 371us/step - loss: 0.0841 - val_loss: 0.0944\n",
      "Epoch 40/100\n",
      "4800/4800 [==============================] - 2s 360us/step - loss: 0.0830 - val_loss: 0.1022\n",
      "Epoch 41/100\n",
      "4800/4800 [==============================] - 2s 359us/step - loss: 0.0832 - val_loss: 0.1045\n",
      "Epoch 42/100\n",
      "4800/4800 [==============================] - 2s 358us/step - loss: 0.0829 - val_loss: 0.0941\n",
      "Epoch 43/100\n",
      "4800/4800 [==============================] - 2s 357us/step - loss: 0.0824 - val_loss: 0.0915\n",
      "Epoch 44/100\n",
      "4800/4800 [==============================] - 2s 359us/step - loss: 0.0816 - val_loss: 0.0943\n",
      "Epoch 45/100\n",
      "4800/4800 [==============================] - 2s 357us/step - loss: 0.0816 - val_loss: 0.1046\n",
      "Epoch 46/100\n",
      "4800/4800 [==============================] - 2s 358us/step - loss: 0.0815 - val_loss: 0.0941\n",
      "Epoch 47/100\n",
      "4800/4800 [==============================] - 2s 360us/step - loss: 0.0812 - val_loss: 0.0924\n",
      "Epoch 48/100\n",
      "4800/4800 [==============================] - 2s 364us/step - loss: 0.0809 - val_loss: 0.0963\n",
      "Epoch 49/100\n",
      "4800/4800 [==============================] - 2s 368us/step - loss: 0.0807 - val_loss: 0.1211\n",
      "Epoch 50/100\n",
      "4800/4800 [==============================] - 2s 359us/step - loss: 0.0803 - val_loss: 0.0965\n",
      "Epoch 51/100\n",
      "4800/4800 [==============================] - 2s 359us/step - loss: 0.0801 - val_loss: 0.0943\n",
      "Epoch 52/100\n",
      "4800/4800 [==============================] - 2s 359us/step - loss: 0.0796 - val_loss: 0.1004\n",
      "Epoch 53/100\n",
      "4800/4800 [==============================] - 2s 361us/step - loss: 0.0796 - val_loss: 0.0953\n",
      "Epoch 54/100\n",
      "4800/4800 [==============================] - 2s 359us/step - loss: 0.0792 - val_loss: 0.1096\n",
      "Epoch 55/100\n",
      "4800/4800 [==============================] - 2s 359us/step - loss: 0.0791 - val_loss: 0.0947\n",
      "Epoch 56/100\n",
      "4800/4800 [==============================] - 2s 361us/step - loss: 0.0789 - val_loss: 0.0934\n",
      "Epoch 57/100\n",
      "4800/4800 [==============================] - 2s 365us/step - loss: 0.0786 - val_loss: 0.0941\n",
      "Epoch 58/100\n",
      "4800/4800 [==============================] - 2s 382us/step - loss: 0.0782 - val_loss: 0.0920\n",
      "Epoch 59/100\n",
      "4800/4800 [==============================] - 2s 360us/step - loss: 0.0782 - val_loss: 0.0958\n",
      "Epoch 60/100\n",
      "4800/4800 [==============================] - 2s 359us/step - loss: 0.0781 - val_loss: 0.1006\n",
      "Epoch 61/100\n",
      "4800/4800 [==============================] - 2s 359us/step - loss: 0.0781 - val_loss: 0.0998\n",
      "Epoch 62/100\n",
      "4800/4800 [==============================] - 2s 363us/step - loss: 0.0777 - val_loss: 0.0918\n",
      "Epoch 63/100\n",
      "4800/4800 [==============================] - 2s 379us/step - loss: 0.0775 - val_loss: 0.0992\n",
      "Epoch 64/100\n",
      "4800/4800 [==============================] - 2s 363us/step - loss: 0.0774 - val_loss: 0.0933\n",
      "Epoch 65/100\n",
      "4800/4800 [==============================] - 2s 379us/step - loss: 0.0773 - val_loss: 0.0930\n",
      "Epoch 66/100\n",
      "4800/4800 [==============================] - 2s 379us/step - loss: 0.0768 - val_loss: 0.0944\n",
      "Epoch 67/100\n",
      "4800/4800 [==============================] - 2s 405us/step - loss: 0.0769 - val_loss: 0.1030\n",
      "Epoch 68/100\n",
      "4800/4800 [==============================] - 2s 378us/step - loss: 0.0767 - val_loss: 0.1074\n",
      "Epoch 69/100\n",
      "4800/4800 [==============================] - 2s 384us/step - loss: 0.0766 - val_loss: 0.0964\n",
      "Epoch 70/100\n",
      "4800/4800 [==============================] - 2s 401us/step - loss: 0.0765 - val_loss: 0.0937\n",
      "Epoch 71/100\n",
      "4800/4800 [==============================] - 2s 380us/step - loss: 0.0761 - val_loss: 0.0941\n",
      "Epoch 72/100\n",
      "4800/4800 [==============================] - 2s 389us/step - loss: 0.0761 - val_loss: 0.0940\n",
      "Epoch 73/100\n",
      "4800/4800 [==============================] - 2s 383us/step - loss: 0.0760 - val_loss: 0.0950\n",
      "Epoch 74/100\n",
      "4800/4800 [==============================] - 2s 390us/step - loss: 0.0760 - val_loss: 0.1127\n",
      "Epoch 75/100\n",
      "4800/4800 [==============================] - 2s 405us/step - loss: 0.0758 - val_loss: 0.1042\n",
      "Epoch 76/100\n",
      "4800/4800 [==============================] - 2s 372us/step - loss: 0.0757 - val_loss: 0.0947\n",
      "Epoch 77/100\n",
      "4800/4800 [==============================] - 2s 383us/step - loss: 0.0751 - val_loss: 0.0957\n"
     ]
    },
    {
     "name": "stdout",
     "output_type": "stream",
     "text": [
      "Epoch 78/100\n",
      "4800/4800 [==============================] - 2s 363us/step - loss: 0.0754 - val_loss: 0.1038\n",
      "Epoch 79/100\n",
      "4800/4800 [==============================] - 2s 362us/step - loss: 0.0750 - val_loss: 0.1005\n",
      "Epoch 80/100\n",
      "4800/4800 [==============================] - 2s 362us/step - loss: 0.0752 - val_loss: 0.0999\n",
      "Epoch 81/100\n",
      "4800/4800 [==============================] - 2s 370us/step - loss: 0.0749 - val_loss: 0.0954\n",
      "Epoch 82/100\n",
      "4800/4800 [==============================] - 2s 367us/step - loss: 0.0750 - val_loss: 0.0981\n",
      "Epoch 83/100\n",
      "4800/4800 [==============================] - 2s 372us/step - loss: 0.0747 - val_loss: 0.0933\n",
      "Epoch 84/100\n",
      "4800/4800 [==============================] - 2s 392us/step - loss: 0.0747 - val_loss: 0.0943\n",
      "Epoch 85/100\n",
      "4800/4800 [==============================] - 2s 379us/step - loss: 0.0746 - val_loss: 0.0954\n",
      "Epoch 86/100\n",
      "4800/4800 [==============================] - 2s 370us/step - loss: 0.0745 - val_loss: 0.0951\n",
      "Epoch 87/100\n",
      "4800/4800 [==============================] - 2s 382us/step - loss: 0.0743 - val_loss: 0.0954\n",
      "Epoch 88/100\n",
      "4800/4800 [==============================] - 2s 367us/step - loss: 0.0744 - val_loss: 0.0995\n",
      "Epoch 89/100\n",
      "4800/4800 [==============================] - 2s 368us/step - loss: 0.0740 - val_loss: 0.0924\n",
      "Epoch 90/100\n",
      "4800/4800 [==============================] - 2s 386us/step - loss: 0.0742 - val_loss: 0.1059\n",
      "Epoch 91/100\n",
      "4800/4800 [==============================] - 2s 369us/step - loss: 0.0738 - val_loss: 0.0935\n",
      "Epoch 92/100\n",
      "4800/4800 [==============================] - 2s 371us/step - loss: 0.0736 - val_loss: 0.0936\n",
      "Epoch 93/100\n",
      "4800/4800 [==============================] - 2s 411us/step - loss: 0.0738 - val_loss: 0.0979\n",
      "Epoch 94/100\n",
      "4800/4800 [==============================] - 2s 377us/step - loss: 0.0736 - val_loss: 0.0950\n",
      "Epoch 95/100\n",
      "4800/4800 [==============================] - 2s 373us/step - loss: 0.0735 - val_loss: 0.0998\n",
      "Epoch 96/100\n",
      "4800/4800 [==============================] - 2s 374us/step - loss: 0.0735 - val_loss: 0.0939\n",
      "Epoch 97/100\n",
      "4800/4800 [==============================] - 2s 378us/step - loss: 0.0734 - val_loss: 0.0958\n",
      "Epoch 98/100\n",
      "4800/4800 [==============================] - 2s 377us/step - loss: 0.0733 - val_loss: 0.0927\n",
      "Epoch 99/100\n",
      "4800/4800 [==============================] - 2s 376us/step - loss: 0.0733 - val_loss: 0.0939\n",
      "Epoch 100/100\n",
      "4800/4800 [==============================] - 2s 380us/step - loss: 0.0731 - val_loss: 0.0985\n"
     ]
    },
    {
     "data": {
      "image/png": "[encoded data removed]",
      "text/plain": [
       "<Figure size 432x288 with 1 Axes>"
      ]
     },
     "metadata": {
      "needs_background": "light"
     },
     "output_type": "display_data"
    }
   ],
   "source": [
    "from keras.models import Sequential\n",
    "from keras.layers import Dense, Dropout, Activation, Flatten, InputLayer\n",
    "from keras.layers import Conv2D, MaxPooling2D, Conv1D , UpSampling2D\n",
    "import keras \n",
    "\n",
    "#from sklearn.preprocessing import OneHotEncoder\n",
    "#enc = OneHotEncoder(handle_unknown='ignore')\n",
    "\n",
    "\n",
    "\n",
    "\n",
    "\n",
    "num_classes = 4 \n",
    "\n",
    "batch_size = 32\n",
    "\n",
    "#epochs = 5\n",
    "data_augmentation = True\n",
    "#num_predictions = 20\n",
    "# each input is a pixel \n",
    "x = np.reshape(gray_birds,( 6000,32,32,1))\n",
    "# must 1 hot encode labels \n",
    "dum = pd.get_dummies(labels.astype(str))\n",
    "\n",
    "y = np.reshape(dum.values, (6000,32,32,4))\n",
    "\n",
    "\n",
    "\n",
    "\n",
    "\n",
    "\n",
    "\n",
    "\n",
    "#model = Sequential()\n",
    "#model.add(Conv2D(32, (5, 5), padding='same', input_shape=x.shape[1:]))\n",
    "#model.add(Activation('relu'))\n",
    "#model.add(Conv2D(32, (5, 5)))\n",
    "#model.add(Activation('relu'))\n",
    "#model.add(MaxPooling2D(pool_size=(2, 2)))\n",
    "#model.add(Dropout(0.25))\n",
    "\n",
    "#model.add(Conv2D(64, (5, 5), padding='same'))\n",
    "#model.add(Activation('relu'))\n",
    "#model.add(Conv2D(64, (5, 5)))\n",
    "#model.add(Activation('relu'))\n",
    "#model.add(MaxPooling2D(pool_size=(2, 2)))\n",
    "#model.add(Dropout(0.25))\n",
    "\n",
    "#model.add(Flatten())\n",
    "#model.add(Dense(4096))\n",
    "#model.add(Activation('relu'))\n",
    "#model.add(Dropout(0.5))\n",
    "#model.add(Dense(num_classes))\n",
    "#model.add(Activation('softmax'))\n",
    "\n",
    "# initiate RMSprop optimizer\n",
    "\n",
    "#model.compile(loss='categorical_crossentropy',\n",
    " #             optimizer=\"adam\",\n",
    "  #            metrics=['accuracy'])\n",
    "\n",
    "\n",
    "#model.fit(x,y, batch_size = 100, epochs = 5, validation_split = .1)\n",
    "\n",
    "model = Sequential()\n",
    "model.add(InputLayer(input_shape=(32, 32, 1)))\n",
    "model.add(Conv2D(8, (5, 5), activation='relu', padding='same', strides=2))\n",
    "model.add(Conv2D(8, (5, 5), activation='relu', padding='same'))\n",
    "model.add(Conv2D(16, (5, 5), activation='relu', padding='same'))\n",
    "model.add(Conv2D(16, (5, 5), activation='relu', padding='same', strides=2))\n",
    "model.add(Conv2D(32, (5, 5), activation='relu', padding='same'))\n",
    "model.add(Conv2D(32, (5, 5), activation='relu', padding='same', strides=2))\n",
    "model.add(UpSampling2D((2, 2)))\n",
    "model.add(Conv2D(32, (5, 5), activation='relu', padding='same'))\n",
    "model.add(UpSampling2D((2, 2)))\n",
    "model.add(Conv2D(16, (5, 5), activation='relu', padding='same'))\n",
    "model.add(UpSampling2D((2, 2)))\n",
    "model.add(Conv2D(4, (5, 5), activation='tanh', padding='same'))\n",
    "\n",
    "model.add(Reshape((32,32,4)))\n",
    "\n",
    "model.compile(optimizer='rmsprop',loss='mse')\n",
    "#model.fit(x=x, \n",
    "#    y=y,\n",
    "#    batch_size=1,\n",
    "#    epochs=3)\n",
    "\n",
    "history = model.fit(x, y, validation_split=0.2, epochs=100, batch_size=32)\n",
    "\n",
    "# summarize history for loss\n",
    "plt.plot(history.history['loss'])\n",
    "plt.plot(history.history['val_loss'])\n",
    "plt.title('model loss, loss type = MSE')\n",
    "plt.ylabel('loss')\n",
    "plt.xlabel('epoch')\n",
    "plt.legend(['train', 'test'], loc='upper left')\n",
    "plt.show()"
   ]
  },
  {
   "cell_type": "markdown",
   "metadata": {},
   "source": [
    "we can see that the best train and test errors we achieve are .0731, and .0985, with a validation set of 1200, and a train of 4800. \n",
    "\n",
    "now to create new images with the predicitons "
   ]
  },
  {
   "cell_type": "code",
   "execution_count": 72,
   "metadata": {},
   "outputs": [
    {
     "name": "stdout",
     "output_type": "stream",
     "text": [
      "[[ 1.89424738e-01  4.74403583e-04  1.87361669e-02  6.70211434e-01]\n",
      " [ 7.73012787e-02 -1.78246200e-03  2.91020353e-03  8.11192513e-01]\n",
      " [ 7.62382001e-02 -5.53752109e-03  4.41569183e-03  8.75019133e-01]\n",
      " [ 9.11156237e-02 -3.35121853e-03  5.29110373e-04  8.61215830e-01]\n",
      " [ 1.18296169e-01  1.19754986e-03  2.35498212e-02  7.60865152e-01]\n",
      " [ 2.61157423e-01  1.59321306e-03  4.73405048e-02  5.91956973e-01]\n",
      " [ 4.80920285e-01  2.62060435e-03  1.39054880e-01  3.03710938e-01]\n",
      " [ 4.77043927e-01  2.07180697e-02  2.52471775e-01  1.67565167e-01]\n",
      " [ 3.56923312e-01  3.04504186e-02  4.52746719e-01  5.51326722e-02]\n",
      " [ 2.02919275e-01  5.75695485e-02  5.84495068e-01  4.01588120e-02]\n",
      " [ 1.49347574e-01  6.41057715e-02  6.79336190e-01  1.71963088e-02]\n",
      " [ 1.34564772e-01  7.02557489e-02  7.39481568e-01  2.59548016e-02]\n",
      " [ 9.40403044e-02  9.12054479e-02  7.91187048e-01  2.34143920e-02]\n",
      " [ 9.57781076e-02  9.06171501e-02  8.07464719e-01  1.85489915e-02]\n",
      " [ 9.56226662e-02  6.99467137e-02  8.12056541e-01  1.45956716e-02]\n",
      " [ 1.02575980e-01  5.16076833e-02  8.01721215e-01  1.32291419e-02]\n",
      " [ 1.19531944e-01  6.61769584e-02  7.46644914e-01  1.44073013e-02]\n",
      " [ 3.21089864e-01  3.75470482e-02  6.37099385e-01  1.55829536e-02]\n",
      " [ 5.42950273e-01  3.86605188e-02  3.55964810e-01  7.84855410e-02]\n",
      " [ 6.85328424e-01  7.25093205e-03  1.07149981e-01  1.49258450e-01]\n",
      " [ 6.78349018e-01 -3.10634766e-02 -6.15626983e-02  3.73622000e-01]\n",
      " [ 5.07614493e-01 -1.22029735e-02 -8.49829465e-02  7.09022999e-01]\n",
      " [ 2.88054526e-01 -2.99733062e-03 -4.37704325e-02  9.10820186e-01]\n",
      " [ 1.91863805e-01 -3.80053860e-03 -3.25852856e-02  9.27692115e-01]\n",
      " [ 1.61217064e-01 -1.83405653e-02 -7.54144564e-02  9.23652351e-01]\n",
      " [ 9.70613211e-02 -1.80279370e-02 -6.03708215e-02  9.29057002e-01]\n",
      " [ 5.90346456e-02 -1.58000700e-02 -4.21934873e-02  9.43550587e-01]\n",
      " [ 5.93447387e-02 -8.80433712e-03 -2.14222670e-02  9.46777821e-01]\n",
      " [ 1.79396104e-02 -4.14158357e-03 -1.95248351e-02  9.48912859e-01]\n",
      " [ 2.02299170e-02 -7.77178910e-03 -1.97943524e-02  9.50663447e-01]\n",
      " [-2.23742630e-02 -5.66583499e-03 -8.93324381e-04  9.49468613e-01]\n",
      " [ 6.43135384e-02  6.09884877e-03  2.54800282e-02  8.87584329e-01]]\n"
     ]
    }
   ],
   "source": [
    "predict_y = model.predict(x)\n",
    "print(predict_y[600][31])\n",
    "\n"
   ]
  },
  {
   "cell_type": "code",
   "execution_count": 73,
   "metadata": {},
   "outputs": [
    {
     "name": "stdout",
     "output_type": "stream",
     "text": [
      "[0, 0, 0, 0, 0, 0, 0, 0, 2, 2, 2, 2, 2, 2, 2, 2, 2, 2, 2, 2, 2, 2, 2, 2, 2, 0, 0, 0, 0, 0, 0, 0]\n"
     ]
    }
   ],
   "source": [
    "pred_y = [[[np.argmax(predict_y[i][j][l]) for l in range (32)] for j in range(32)] for i in range(1000)]\n",
    "print(pred_y[0][0])"
   ]
  },
  {
   "cell_type": "code",
   "execution_count": 74,
   "metadata": {},
   "outputs": [
    {
     "name": "stdout",
     "output_type": "stream",
     "text": [
      "[[109 109  83]\n",
      " [109 109  83]\n",
      " [109 109  83]\n",
      " [109 109  83]\n",
      " [109 109  83]\n",
      " [109 109  83]\n",
      " [109 109  83]\n",
      " [109 109  83]\n",
      " [156 156 136]\n",
      " [156 156 136]]\n",
      "(1000, 32, 32, 3)\n"
     ]
    }
   ],
   "source": [
    "pred_y = [[COLORS[l] for l in j] for j in pred_y]\n",
    "art_color = np.array(pred_y,int)\n",
    "print(art_color[0][0][:10])\n",
    "print(art_color.shape)"
   ]
  },
  {
   "cell_type": "code",
   "execution_count": 75,
   "metadata": {},
   "outputs": [
    {
     "data": {
      "text/plain": [
       "<matplotlib.image.AxesImage at 0x2a7a15169b0>"
      ]
     },
     "execution_count": 75,
     "metadata": {},
     "output_type": "execute_result"
    },
    {
     "data": {
      "image/png": "[encoded data removed]",
      "text/plain": [
       "<Figure size 432x288 with 1 Axes>"
      ]
     },
     "metadata": {
      "needs_background": "light"
     },
     "output_type": "display_data"
    }
   ],
   "source": [
    "plt.imshow(art_color[1])"
   ]
  },
  {
   "cell_type": "code",
   "execution_count": null,
   "metadata": {},
   "outputs": [],
   "source": []
  },
  {
   "cell_type": "code",
   "execution_count": 76,
   "metadata": {},
   "outputs": [
    {
     "data": {
      "text/plain": [
       "<matplotlib.image.AxesImage at 0x2a785466f60>"
      ]
     },
     "execution_count": 76,
     "metadata": {},
     "output_type": "execute_result"
    },
    {
     "data": {
      "image/png": "[encoded data removed]",
      "text/plain": [
       "<Figure size 432x288 with 1 Axes>"
      ]
     },
     "metadata": {
      "needs_background": "light"
     },
     "output_type": "display_data"
    }
   ],
   "source": [
    "plt.imshow(birds[1])"
   ]
  },
  {
   "cell_type": "code",
   "execution_count": 77,
   "metadata": {},
   "outputs": [
    {
     "data": {
      "text/plain": [
       "<matplotlib.image.AxesImage at 0x2a7a14ef550>"
      ]
     },
     "execution_count": 77,
     "metadata": {},
     "output_type": "execute_result"
    },
    {
     "data": {
      "image/png": "[encoded data removed]",
      "text/plain": [
       "<Figure size 432x288 with 1 Axes>"
      ]
     },
     "metadata": {
      "needs_background": "light"
     },
     "output_type": "display_data"
    }
   ],
   "source": [
    "plt.imshow(birds_4_colors[1])"
   ]
  },
  {
   "cell_type": "code",
   "execution_count": 78,
   "metadata": {},
   "outputs": [
    {
     "data": {
      "text/plain": [
       "<matplotlib.image.AxesImage at 0x2a6cbd1cb00>"
      ]
     },
     "execution_count": 78,
     "metadata": {},
     "output_type": "execute_result"
    },
    {
     "data": {
      "image/png": "[encoded data removed]",
      "text/plain": [
       "<Figure size 432x288 with 1 Axes>"
      ]
     },
     "metadata": {
      "needs_background": "light"
     },
     "output_type": "display_data"
    }
   ],
   "source": [
    "plt.imshow(art_color[0])"
   ]
  },
  {
   "cell_type": "code",
   "execution_count": 79,
   "metadata": {},
   "outputs": [
    {
     "data": {
      "text/plain": [
       "<matplotlib.image.AxesImage at 0x2a6cbd820f0>"
      ]
     },
     "execution_count": 79,
     "metadata": {},
     "output_type": "execute_result"
    },
    {
     "data": {
      "image/png": "[encoded data removed]",
      "text/plain": [
       "<Figure size 432x288 with 1 Axes>"
      ]
     },
     "metadata": {
      "needs_background": "light"
     },
     "output_type": "display_data"
    }
   ],
   "source": [
    "plt.imshow(birds[0])"
   ]
  },
  {
   "cell_type": "code",
   "execution_count": 80,
   "metadata": {},
   "outputs": [
    {
     "data": {
      "text/plain": [
       "<matplotlib.image.AxesImage at 0x2a6cbddd6d8>"
      ]
     },
     "execution_count": 80,
     "metadata": {},
     "output_type": "execute_result"
    },
    {
     "data": {
      "image/png": "[encoded data removed]",
      "text/plain": [
       "<Figure size 432x288 with 1 Axes>"
      ]
     },
     "metadata": {
      "needs_background": "light"
     },
     "output_type": "display_data"
    }
   ],
   "source": [
    "plt.imshow(birds_4_colors[0])"
   ]
  },
  {
   "cell_type": "code",
   "execution_count": 81,
   "metadata": {},
   "outputs": [
    {
     "data": {
      "text/plain": [
       "<matplotlib.image.AxesImage at 0x2a6cbe3bc50>"
      ]
     },
     "execution_count": 81,
     "metadata": {},
     "output_type": "execute_result"
    },
    {
     "data": {
      "image/png": "[encoded data removed]",
      "text/plain": [
       "<Figure size 432x288 with 1 Axes>"
      ]
     },
     "metadata": {
      "needs_background": "light"
     },
     "output_type": "display_data"
    }
   ],
   "source": [
    "plt.imshow(art_color[2])"
   ]
  },
  {
   "cell_type": "code",
   "execution_count": 82,
   "metadata": {},
   "outputs": [
    {
     "data": {
      "text/plain": [
       "<matplotlib.image.AxesImage at 0x2a6cbea0240>"
      ]
     },
     "execution_count": 82,
     "metadata": {},
     "output_type": "execute_result"
    },
    {
     "data": {
      "image/png": "[encoded data removed]",
      "text/plain": [
       "<Figure size 432x288 with 1 Axes>"
      ]
     },
     "metadata": {
      "needs_background": "light"
     },
     "output_type": "display_data"
    }
   ],
   "source": [
    "plt.imshow(birds_4_colors[2])"
   ]
  },
  {
   "cell_type": "code",
   "execution_count": 83,
   "metadata": {},
   "outputs": [
    {
     "data": {
      "text/plain": [
       "<matplotlib.image.AxesImage at 0x2a6cbefc7f0>"
      ]
     },
     "execution_count": 83,
     "metadata": {},
     "output_type": "execute_result"
    },
    {
     "data": {
      "image/png": "[encoded data removed]",
      "text/plain": [
       "<Figure size 432x288 with 1 Axes>"
      ]
     },
     "metadata": {
      "needs_background": "light"
     },
     "output_type": "display_data"
    }
   ],
   "source": [
    "plt.imshow(birds[2])"
   ]
  },
  {
   "cell_type": "code",
   "execution_count": 84,
   "metadata": {},
   "outputs": [
    {
     "data": {
      "text/plain": [
       "<matplotlib.image.AxesImage at 0x2a6cbf5bda0>"
      ]
     },
     "execution_count": 84,
     "metadata": {},
     "output_type": "execute_result"
    },
    {
     "data": {
      "image/png": "[encoded data removed]",
      "text/plain": [
       "<Figure size 432x288 with 1 Axes>"
      ]
     },
     "metadata": {
      "needs_background": "light"
     },
     "output_type": "display_data"
    }
   ],
   "source": [
    "plt.imshow(art_color[3])"
   ]
  },
  {
   "cell_type": "code",
   "execution_count": 85,
   "metadata": {},
   "outputs": [
    {
     "data": {
      "text/plain": [
       "<matplotlib.image.AxesImage at 0x2a6cbfc3390>"
      ]
     },
     "execution_count": 85,
     "metadata": {},
     "output_type": "execute_result"
    },
    {
     "data": {
      "image/png": "[encoded data removed]",
      "text/plain": [
       "<Figure size 432x288 with 1 Axes>"
      ]
     },
     "metadata": {
      "needs_background": "light"
     },
     "output_type": "display_data"
    }
   ],
   "source": [
    "plt.imshow(birds_4_colors[3])"
   ]
  },
  {
   "cell_type": "code",
   "execution_count": 86,
   "metadata": {},
   "outputs": [
    {
     "data": {
      "text/plain": [
       "<matplotlib.image.AxesImage at 0x2a6cc01d940>"
      ]
     },
     "execution_count": 86,
     "metadata": {},
     "output_type": "execute_result"
    },
    {
     "data": {
      "image/png": "[encoded data removed]",
      "text/plain": [
       "<Figure size 432x288 with 1 Axes>"
      ]
     },
     "metadata": {
      "needs_background": "light"
     },
     "output_type": "display_data"
    }
   ],
   "source": [
    "plt.imshow(birds[3])"
   ]
  },
  {
   "cell_type": "code",
   "execution_count": 87,
   "metadata": {},
   "outputs": [
    {
     "data": {
      "text/plain": [
       "<matplotlib.image.AxesImage at 0x2a6cc07bef0>"
      ]
     },
     "execution_count": 87,
     "metadata": {},
     "output_type": "execute_result"
    },
    {
     "data": {
      "image/png": "[encoded data removed]",
      "text/plain": [
       "<Figure size 432x288 with 1 Axes>"
      ]
     },
     "metadata": {
      "needs_background": "light"
     },
     "output_type": "display_data"
    }
   ],
   "source": [
    "plt.imshow(art_color[4])"
   ]
  },
  {
   "cell_type": "code",
   "execution_count": 88,
   "metadata": {},
   "outputs": [
    {
     "data": {
      "text/plain": [
       "<matplotlib.image.AxesImage at 0x2a6cc0dd4e0>"
      ]
     },
     "execution_count": 88,
     "metadata": {},
     "output_type": "execute_result"
    },
    {
     "data": {
      "image/png": "[encoded data removed]",
      "text/plain": [
       "<Figure size 432x288 with 1 Axes>"
      ]
     },
     "metadata": {
      "needs_background": "light"
     },
     "output_type": "display_data"
    }
   ],
   "source": [
    "plt.imshow(birds_4_colors[4])"
   ]
  },
  {
   "cell_type": "code",
   "execution_count": 89,
   "metadata": {},
   "outputs": [
    {
     "data": {
      "text/plain": [
       "<matplotlib.image.AxesImage at 0x2a6cc136a90>"
      ]
     },
     "execution_count": 89,
     "metadata": {},
     "output_type": "execute_result"
    },
    {
     "data": {
      "image/png": "[encoded data removed]",
      "text/plain": [
       "<Figure size 432x288 with 1 Axes>"
      ]
     },
     "metadata": {
      "needs_background": "light"
     },
     "output_type": "display_data"
    }
   ],
   "source": [
    "plt.imshow(birds[4])"
   ]
  },
  {
   "cell_type": "code",
   "execution_count": 90,
   "metadata": {},
   "outputs": [
    {
     "data": {
      "text/plain": [
       "<matplotlib.image.AxesImage at 0x2a6cc19e080>"
      ]
     },
     "execution_count": 90,
     "metadata": {},
     "output_type": "execute_result"
    },
    {
     "data": {
      "image/png": "[encoded data removed]",
      "text/plain": [
       "<Figure size 432x288 with 1 Axes>"
      ]
     },
     "metadata": {
      "needs_background": "light"
     },
     "output_type": "display_data"
    }
   ],
   "source": [
    "plt.imshow(art_color[5])"
   ]
  },
  {
   "cell_type": "code",
   "execution_count": 91,
   "metadata": {},
   "outputs": [
    {
     "data": {
      "text/plain": [
       "<matplotlib.image.AxesImage at 0x2a6cc1f9630>"
      ]
     },
     "execution_count": 91,
     "metadata": {},
     "output_type": "execute_result"
    },
    {
     "data": {
      "image/png": "[encoded data removed]",
      "text/plain": [
       "<Figure size 432x288 with 1 Axes>"
      ]
     },
     "metadata": {
      "needs_background": "light"
     },
     "output_type": "display_data"
    }
   ],
   "source": [
    "plt.imshow(birds_4_colors[5])"
   ]
  },
  {
   "cell_type": "code",
   "execution_count": 92,
   "metadata": {},
   "outputs": [
    {
     "data": {
      "text/plain": [
       "<matplotlib.image.AxesImage at 0x2a6cc253be0>"
      ]
     },
     "execution_count": 92,
     "metadata": {},
     "output_type": "execute_result"
    },
    {
     "data": {
      "image/png": "[encoded data removed]",
      "text/plain": [
       "<Figure size 432x288 with 1 Axes>"
      ]
     },
     "metadata": {
      "needs_background": "light"
     },
     "output_type": "display_data"
    }
   ],
   "source": [
    "plt.imshow(birds[5])"
   ]
  },
  {
   "cell_type": "code",
   "execution_count": 93,
   "metadata": {},
   "outputs": [
    {
     "data": {
      "text/plain": [
       "<matplotlib.image.AxesImage at 0x2a6cc2b91d0>"
      ]
     },
     "execution_count": 93,
     "metadata": {},
     "output_type": "execute_result"
    },
    {
     "data": {
      "image/png": "[encoded data removed]",
      "text/plain": [
       "<Figure size 432x288 with 1 Axes>"
      ]
     },
     "metadata": {
      "needs_background": "light"
     },
     "output_type": "display_data"
    }
   ],
   "source": [
    "plt.imshow(art_color[6])"
   ]
  },
  {
   "cell_type": "code",
   "execution_count": 94,
   "metadata": {},
   "outputs": [
    {
     "data": {
      "text/plain": [
       "<matplotlib.image.AxesImage at 0x2a6cc312780>"
      ]
     },
     "execution_count": 94,
     "metadata": {},
     "output_type": "execute_result"
    },
    {
     "data": {
      "image/png": "[encoded data removed]",
      "text/plain": [
       "<Figure size 432x288 with 1 Axes>"
      ]
     },
     "metadata": {
      "needs_background": "light"
     },
     "output_type": "display_data"
    }
   ],
   "source": [
    "plt.imshow(birds_4_colors[6])"
   ]
  },
  {
   "cell_type": "code",
   "execution_count": 95,
   "metadata": {},
   "outputs": [
    {
     "data": {
      "text/plain": [
       "<matplotlib.image.AxesImage at 0x2a6cc370d30>"
      ]
     },
     "execution_count": 95,
     "metadata": {},
     "output_type": "execute_result"
    },
    {
     "data": {
      "image/png": "[encoded data removed]",
      "text/plain": [
       "<Figure size 432x288 with 1 Axes>"
      ]
     },
     "metadata": {
      "needs_background": "light"
     },
     "output_type": "display_data"
    }
   ],
   "source": [
    "plt.imshow(birds[6])"
   ]
  },
  {
   "cell_type": "code",
   "execution_count": 96,
   "metadata": {},
   "outputs": [
    {
     "data": {
      "text/plain": [
       "<matplotlib.image.AxesImage at 0x2a6cc3d6320>"
      ]
     },
     "execution_count": 96,
     "metadata": {},
     "output_type": "execute_result"
    },
    {
     "data": {
      "image/png": "[encoded data removed]",
      "text/plain": [
       "<Figure size 432x288 with 1 Axes>"
      ]
     },
     "metadata": {
      "needs_background": "light"
     },
     "output_type": "display_data"
    }
   ],
   "source": [
    "plt.imshow(art_color[7])"
   ]
  },
  {
   "cell_type": "code",
   "execution_count": 97,
   "metadata": {},
   "outputs": [
    {
     "data": {
      "text/plain": [
       "<matplotlib.image.AxesImage at 0x2a6cc4308d0>"
      ]
     },
     "execution_count": 97,
     "metadata": {},
     "output_type": "execute_result"
    },
    {
     "data": {
      "image/png": "[encoded data removed]",
      "text/plain": [
       "<Figure size 432x288 with 1 Axes>"
      ]
     },
     "metadata": {
      "needs_background": "light"
     },
     "output_type": "display_data"
    }
   ],
   "source": [
    "plt.imshow(birds_4_colors[7])"
   ]
  },
  {
   "cell_type": "code",
   "execution_count": 98,
   "metadata": {},
   "outputs": [
    {
     "data": {
      "text/plain": [
       "<matplotlib.image.AxesImage at 0x2a6cc48de80>"
      ]
     },
     "execution_count": 98,
     "metadata": {},
     "output_type": "execute_result"
    },
    {
     "data": {
      "image/png": "[encoded data removed]",
      "text/plain": [
       "<Figure size 432x288 with 1 Axes>"
      ]
     },
     "metadata": {
      "needs_background": "light"
     },
     "output_type": "display_data"
    }
   ],
   "source": [
    "plt.imshow(birds[7])"
   ]
  },
  {
   "cell_type": "code",
   "execution_count": 99,
   "metadata": {},
   "outputs": [
    {
     "data": {
      "text/plain": [
       "<matplotlib.image.AxesImage at 0x2a6cc4f3470>"
      ]
     },
     "execution_count": 99,
     "metadata": {},
     "output_type": "execute_result"
    },
    {
     "data": {
      "image/png": "[encoded data removed]",
      "text/plain": [
       "<Figure size 432x288 with 1 Axes>"
      ]
     },
     "metadata": {
      "needs_background": "light"
     },
     "output_type": "display_data"
    }
   ],
   "source": [
    "plt.imshow(art_color[8])"
   ]
  },
  {
   "cell_type": "code",
   "execution_count": 100,
   "metadata": {},
   "outputs": [
    {
     "data": {
      "text/plain": [
       "<matplotlib.image.AxesImage at 0x2a6cc54ca20>"
      ]
     },
     "execution_count": 100,
     "metadata": {},
     "output_type": "execute_result"
    },
    {
     "data": {
      "image/png": "[encoded data removed]",
      "text/plain": [
       "<Figure size 432x288 with 1 Axes>"
      ]
     },
     "metadata": {
      "needs_background": "light"
     },
     "output_type": "display_data"
    }
   ],
   "source": [
    "plt.imshow(birds_4_colors[8])"
   ]
  },
  {
   "cell_type": "code",
   "execution_count": 101,
   "metadata": {},
   "outputs": [
    {
     "data": {
      "text/plain": [
       "<matplotlib.image.AxesImage at 0x2a6cc5a9fd0>"
      ]
     },
     "execution_count": 101,
     "metadata": {},
     "output_type": "execute_result"
    },
    {
     "data": {
      "image/png": "[encoded data removed]",
      "text/plain": [
       "<Figure size 432x288 with 1 Axes>"
      ]
     },
     "metadata": {
      "needs_background": "light"
     },
     "output_type": "display_data"
    }
   ],
   "source": [
    "plt.imshow(birds[8])"
   ]
  },
  {
   "cell_type": "code",
   "execution_count": 102,
   "metadata": {},
   "outputs": [
    {
     "data": {
      "text/plain": [
       "<matplotlib.image.AxesImage at 0x2a6cc6115c0>"
      ]
     },
     "execution_count": 102,
     "metadata": {},
     "output_type": "execute_result"
    },
    {
     "data": {
      "image/png": "[encoded data removed]",
      "text/plain": [
       "<Figure size 432x288 with 1 Axes>"
      ]
     },
     "metadata": {
      "needs_background": "light"
     },
     "output_type": "display_data"
    }
   ],
   "source": [
    "plt.imshow(art_color[9])"
   ]
  },
  {
   "cell_type": "code",
   "execution_count": 103,
   "metadata": {},
   "outputs": [
    {
     "data": {
      "text/plain": [
       "<matplotlib.image.AxesImage at 0x2a6cc66ab70>"
      ]
     },
     "execution_count": 103,
     "metadata": {},
     "output_type": "execute_result"
    },
    {
     "data": {
      "image/png": "[encoded data removed]",
      "text/plain": [
       "<Figure size 432x288 with 1 Axes>"
      ]
     },
     "metadata": {
      "needs_background": "light"
     },
     "output_type": "display_data"
    }
   ],
   "source": [
    "plt.imshow(birds_4_colors[9])"
   ]
  },
  {
   "cell_type": "code",
   "execution_count": 104,
   "metadata": {},
   "outputs": [
    {
     "data": {
      "text/plain": [
       "<matplotlib.image.AxesImage at 0x2a6cc6ce160>"
      ]
     },
     "execution_count": 104,
     "metadata": {},
     "output_type": "execute_result"
    },
    {
     "data": {
      "image/png": "[encoded data removed]",
      "text/plain": [
       "<Figure size 432x288 with 1 Axes>"
      ]
     },
     "metadata": {
      "needs_background": "light"
     },
     "output_type": "display_data"
    }
   ],
   "source": [
    "plt.imshow(birds[9])"
   ]
  },
  {
   "cell_type": "code",
   "execution_count": null,
   "metadata": {},
   "outputs": [],
   "source": []
  },
  {
   "cell_type": "code",
   "execution_count": null,
   "metadata": {},
   "outputs": [],
   "source": []
  },
  {
   "cell_type": "code",
   "execution_count": null,
   "metadata": {},
   "outputs": [],
   "source": []
  }
 ],
 "metadata": {
  "kernelspec": {
   "display_name": "Python 3",
   "language": "python",
   "name": "python3"
  },
  "language_info": {
   "codemirror_mode": {
    "name": "ipython",
    "version": 3
   },
   "file_extension": ".py",
   "mimetype": "text/x-python",
   "name": "python",
   "nbconvert_exporter": "python",
   "pygments_lexer": "ipython3",
   "version": "3.6.8"
  }
 },
 "nbformat": 4,
 "nbformat_minor": 2
}
